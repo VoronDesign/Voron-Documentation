{
 "cells": [
  {
   "cell_type": "markdown",
   "id": "f142c040",
   "metadata": {},
   "source": [
    "![](./FYSETC_Spider_V2.2_Color_PIN_diagram_300.jpg)"
   ]
  },
  {
   "cell_type": "code",
   "execution_count": null,
   "id": "ae3181b3",
   "metadata": {},
   "outputs": [],
   "source": []
  }
 ],
 "metadata": {
  "kernelspec": {
   "display_name": "Python 3 (ipykernel)",
   "language": "python",
   "name": "python3"
  },
  "language_info": {
   "codemirror_mode": {
    "name": "ipython",
    "version": 3
   },
   "file_extension": ".py",
   "mimetype": "text/x-python",
   "name": "python",
   "nbconvert_exporter": "python",
   "pygments_lexer": "ipython3",
   "version": "3.9.7"
  }
 },
 "nbformat": 4,
 "nbformat_minor": 5
}
